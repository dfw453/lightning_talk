{
 "cells": [
  {
   "cell_type": "markdown",
   "metadata": {},
   "source": [
    "### Importing Video into python"
   ]
  },
  {
   "cell_type": "code",
   "execution_count": null,
   "metadata": {},
   "outputs": [],
   "source": [
    "from moviepy.editor import *\n",
    "video = VideoFileClip('filename.mp4')"
   ]
  },
  {
   "cell_type": "markdown",
   "metadata": {},
   "source": [
    "### Basic Video Editing Functions"
   ]
  },
  {
   "cell_type": "code",
   "execution_count": null,
   "metadata": {},
   "outputs": [],
   "source": [
    "#Take a clip from video\n",
    "clip = video.subclip(t1,t2) # t1 and t2 are the timestamps in s that you want to clip from the video\n",
    "\n",
    "#Rotate Video \n",
    "rotated = video.rotate(x) # x is the number of degrees to rotate the video\n",
    "\n",
    "#Change Volume\n",
    "volume = video.volumex(m) # m is the multiplier applied to the audio volume of the video"
   ]
  },
  {
   "cell_type": "markdown",
   "metadata": {},
   "source": [
    "### Overlay text onto video"
   ]
  },
  {
   "cell_type": "code",
   "execution_count": null,
   "metadata": {},
   "outputs": [],
   "source": [
    "# Create text to add onto video\n",
    "text_clip = TextClip('text', fontsize = 70, color = 'white')\n",
    "\n",
    "#Customize position text will appear at and how long it will show\n",
    "text_clip = text_clip.set_pos('center').set_duration(10)  #duration is in s\n",
    "\n",
    "#Overlay text onto existing video\n",
    "overlayed = CompositeVideoClip([video,text_clip])\n",
    "\n",
    "#Write resulting video to file\n",
    "overlayed.write_videofile('new_filename.mp4', fps = 60) #fps parameter is optional (defaults to original clip fps)"
   ]
  }
 ],
 "metadata": {
  "kernelspec": {
   "display_name": "Python 3",
   "language": "python",
   "name": "python3"
  },
  "language_info": {
   "name": "python",
   "version": "3.12.5"
  }
 },
 "nbformat": 4,
 "nbformat_minor": 2
}
